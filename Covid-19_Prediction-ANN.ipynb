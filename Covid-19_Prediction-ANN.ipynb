{
 "cells": [
  {
   "cell_type": "code",
   "execution_count": 1,
   "metadata": {},
   "outputs": [],
   "source": [
    "#Importing the basic libraries\n",
    "import numpy as np\n",
    "import pandas as pd\n",
    "import matplotlib.pyplot as plt\n",
    "%matplotlib inline"
   ]
  },
  {
   "cell_type": "code",
   "execution_count": 2,
   "metadata": {},
   "outputs": [],
   "source": [
    "#importing the dataset\n",
    "dataset = pd.read_csv(\"Covid Dataset.csv\")"
   ]
  },
  {
   "cell_type": "code",
   "execution_count": 3,
   "metadata": {},
   "outputs": [
    {
     "data": {
      "text/html": [
       "<div>\n",
       "<style scoped>\n",
       "    .dataframe tbody tr th:only-of-type {\n",
       "        vertical-align: middle;\n",
       "    }\n",
       "\n",
       "    .dataframe tbody tr th {\n",
       "        vertical-align: top;\n",
       "    }\n",
       "\n",
       "    .dataframe thead th {\n",
       "        text-align: right;\n",
       "    }\n",
       "</style>\n",
       "<table border=\"1\" class=\"dataframe\">\n",
       "  <thead>\n",
       "    <tr style=\"text-align: right;\">\n",
       "      <th></th>\n",
       "      <th>Breathing Problem</th>\n",
       "      <th>Fever</th>\n",
       "      <th>Dry Cough</th>\n",
       "      <th>Sore throat</th>\n",
       "      <th>Running 0se</th>\n",
       "      <th>Asthma</th>\n",
       "      <th>Chronic Lung Disease</th>\n",
       "      <th>Headache</th>\n",
       "      <th>Heart Disease</th>\n",
       "      <th>Diabetes</th>\n",
       "      <th>...</th>\n",
       "      <th>Fatigue</th>\n",
       "      <th>Gastrointestinal</th>\n",
       "      <th>Abroad travel</th>\n",
       "      <th>Contact with COVID Patient</th>\n",
       "      <th>Attended Large Gathering</th>\n",
       "      <th>Visited Public Exposed Places</th>\n",
       "      <th>Family working in Public Exposed Places</th>\n",
       "      <th>Wearing Masks</th>\n",
       "      <th>Sanitization from Market</th>\n",
       "      <th>COVID-19</th>\n",
       "    </tr>\n",
       "  </thead>\n",
       "  <tbody>\n",
       "    <tr>\n",
       "      <th>0</th>\n",
       "      <td>1</td>\n",
       "      <td>1</td>\n",
       "      <td>1</td>\n",
       "      <td>1</td>\n",
       "      <td>1</td>\n",
       "      <td>0</td>\n",
       "      <td>0</td>\n",
       "      <td>0</td>\n",
       "      <td>0</td>\n",
       "      <td>1</td>\n",
       "      <td>...</td>\n",
       "      <td>1</td>\n",
       "      <td>1</td>\n",
       "      <td>0</td>\n",
       "      <td>1</td>\n",
       "      <td>0</td>\n",
       "      <td>1</td>\n",
       "      <td>1</td>\n",
       "      <td>0</td>\n",
       "      <td>0</td>\n",
       "      <td>1</td>\n",
       "    </tr>\n",
       "    <tr>\n",
       "      <th>1</th>\n",
       "      <td>1</td>\n",
       "      <td>1</td>\n",
       "      <td>1</td>\n",
       "      <td>1</td>\n",
       "      <td>0</td>\n",
       "      <td>1</td>\n",
       "      <td>1</td>\n",
       "      <td>1</td>\n",
       "      <td>0</td>\n",
       "      <td>0</td>\n",
       "      <td>...</td>\n",
       "      <td>1</td>\n",
       "      <td>0</td>\n",
       "      <td>0</td>\n",
       "      <td>0</td>\n",
       "      <td>1</td>\n",
       "      <td>1</td>\n",
       "      <td>0</td>\n",
       "      <td>0</td>\n",
       "      <td>0</td>\n",
       "      <td>1</td>\n",
       "    </tr>\n",
       "    <tr>\n",
       "      <th>2</th>\n",
       "      <td>1</td>\n",
       "      <td>1</td>\n",
       "      <td>1</td>\n",
       "      <td>1</td>\n",
       "      <td>1</td>\n",
       "      <td>1</td>\n",
       "      <td>1</td>\n",
       "      <td>1</td>\n",
       "      <td>0</td>\n",
       "      <td>1</td>\n",
       "      <td>...</td>\n",
       "      <td>1</td>\n",
       "      <td>1</td>\n",
       "      <td>1</td>\n",
       "      <td>0</td>\n",
       "      <td>0</td>\n",
       "      <td>0</td>\n",
       "      <td>0</td>\n",
       "      <td>0</td>\n",
       "      <td>0</td>\n",
       "      <td>1</td>\n",
       "    </tr>\n",
       "    <tr>\n",
       "      <th>3</th>\n",
       "      <td>1</td>\n",
       "      <td>1</td>\n",
       "      <td>1</td>\n",
       "      <td>0</td>\n",
       "      <td>0</td>\n",
       "      <td>1</td>\n",
       "      <td>0</td>\n",
       "      <td>0</td>\n",
       "      <td>1</td>\n",
       "      <td>1</td>\n",
       "      <td>...</td>\n",
       "      <td>0</td>\n",
       "      <td>0</td>\n",
       "      <td>1</td>\n",
       "      <td>0</td>\n",
       "      <td>1</td>\n",
       "      <td>1</td>\n",
       "      <td>0</td>\n",
       "      <td>0</td>\n",
       "      <td>0</td>\n",
       "      <td>1</td>\n",
       "    </tr>\n",
       "    <tr>\n",
       "      <th>4</th>\n",
       "      <td>1</td>\n",
       "      <td>1</td>\n",
       "      <td>1</td>\n",
       "      <td>1</td>\n",
       "      <td>1</td>\n",
       "      <td>0</td>\n",
       "      <td>1</td>\n",
       "      <td>1</td>\n",
       "      <td>1</td>\n",
       "      <td>1</td>\n",
       "      <td>...</td>\n",
       "      <td>0</td>\n",
       "      <td>1</td>\n",
       "      <td>0</td>\n",
       "      <td>1</td>\n",
       "      <td>0</td>\n",
       "      <td>1</td>\n",
       "      <td>0</td>\n",
       "      <td>0</td>\n",
       "      <td>0</td>\n",
       "      <td>1</td>\n",
       "    </tr>\n",
       "  </tbody>\n",
       "</table>\n",
       "<p>5 rows × 21 columns</p>\n",
       "</div>"
      ],
      "text/plain": [
       "   Breathing Problem  Fever  Dry Cough  Sore throat  Running 0se  Asthma  \\\n",
       "0                  1      1          1            1            1       0   \n",
       "1                  1      1          1            1            0       1   \n",
       "2                  1      1          1            1            1       1   \n",
       "3                  1      1          1            0            0       1   \n",
       "4                  1      1          1            1            1       0   \n",
       "\n",
       "   Chronic Lung Disease  Headache  Heart Disease  Diabetes  ...  Fatigue   \\\n",
       "0                     0         0              0         1  ...         1   \n",
       "1                     1         1              0         0  ...         1   \n",
       "2                     1         1              0         1  ...         1   \n",
       "3                     0         0              1         1  ...         0   \n",
       "4                     1         1              1         1  ...         0   \n",
       "\n",
       "   Gastrointestinal   Abroad travel  Contact with COVID Patient  \\\n",
       "0                  1              0                           1   \n",
       "1                  0              0                           0   \n",
       "2                  1              1                           0   \n",
       "3                  0              1                           0   \n",
       "4                  1              0                           1   \n",
       "\n",
       "   Attended Large Gathering  Visited Public Exposed Places  \\\n",
       "0                         0                              1   \n",
       "1                         1                              1   \n",
       "2                         0                              0   \n",
       "3                         1                              1   \n",
       "4                         0                              1   \n",
       "\n",
       "   Family working in Public Exposed Places  Wearing Masks  \\\n",
       "0                                        1              0   \n",
       "1                                        0              0   \n",
       "2                                        0              0   \n",
       "3                                        0              0   \n",
       "4                                        0              0   \n",
       "\n",
       "   Sanitization from Market  COVID-19  \n",
       "0                         0         1  \n",
       "1                         0         1  \n",
       "2                         0         1  \n",
       "3                         0         1  \n",
       "4                         0         1  \n",
       "\n",
       "[5 rows x 21 columns]"
      ]
     },
     "execution_count": 3,
     "metadata": {},
     "output_type": "execute_result"
    }
   ],
   "source": [
    "#displaying the head of the dataset\n",
    "dataset.head()"
   ]
  },
  {
   "cell_type": "code",
   "execution_count": 4,
   "metadata": {},
   "outputs": [],
   "source": [
    "#dividing the features and label\n",
    "X = dataset.iloc[:,0:20]\n",
    "Y = dataset.iloc[:,20]"
   ]
  },
  {
   "cell_type": "code",
   "execution_count": 5,
   "metadata": {},
   "outputs": [
    {
     "data": {
      "text/html": [
       "<div>\n",
       "<style scoped>\n",
       "    .dataframe tbody tr th:only-of-type {\n",
       "        vertical-align: middle;\n",
       "    }\n",
       "\n",
       "    .dataframe tbody tr th {\n",
       "        vertical-align: top;\n",
       "    }\n",
       "\n",
       "    .dataframe thead th {\n",
       "        text-align: right;\n",
       "    }\n",
       "</style>\n",
       "<table border=\"1\" class=\"dataframe\">\n",
       "  <thead>\n",
       "    <tr style=\"text-align: right;\">\n",
       "      <th></th>\n",
       "      <th>Breathing Problem</th>\n",
       "      <th>Fever</th>\n",
       "      <th>Dry Cough</th>\n",
       "      <th>Sore throat</th>\n",
       "      <th>Running 0se</th>\n",
       "      <th>Asthma</th>\n",
       "      <th>Chronic Lung Disease</th>\n",
       "      <th>Headache</th>\n",
       "      <th>Heart Disease</th>\n",
       "      <th>Diabetes</th>\n",
       "      <th>Hyper Tension</th>\n",
       "      <th>Fatigue</th>\n",
       "      <th>Gastrointestinal</th>\n",
       "      <th>Abroad travel</th>\n",
       "      <th>Contact with COVID Patient</th>\n",
       "      <th>Attended Large Gathering</th>\n",
       "      <th>Visited Public Exposed Places</th>\n",
       "      <th>Family working in Public Exposed Places</th>\n",
       "      <th>Wearing Masks</th>\n",
       "      <th>Sanitization from Market</th>\n",
       "    </tr>\n",
       "  </thead>\n",
       "  <tbody>\n",
       "    <tr>\n",
       "      <th>0</th>\n",
       "      <td>1</td>\n",
       "      <td>1</td>\n",
       "      <td>1</td>\n",
       "      <td>1</td>\n",
       "      <td>1</td>\n",
       "      <td>0</td>\n",
       "      <td>0</td>\n",
       "      <td>0</td>\n",
       "      <td>0</td>\n",
       "      <td>1</td>\n",
       "      <td>1</td>\n",
       "      <td>1</td>\n",
       "      <td>1</td>\n",
       "      <td>0</td>\n",
       "      <td>1</td>\n",
       "      <td>0</td>\n",
       "      <td>1</td>\n",
       "      <td>1</td>\n",
       "      <td>0</td>\n",
       "      <td>0</td>\n",
       "    </tr>\n",
       "    <tr>\n",
       "      <th>1</th>\n",
       "      <td>1</td>\n",
       "      <td>1</td>\n",
       "      <td>1</td>\n",
       "      <td>1</td>\n",
       "      <td>0</td>\n",
       "      <td>1</td>\n",
       "      <td>1</td>\n",
       "      <td>1</td>\n",
       "      <td>0</td>\n",
       "      <td>0</td>\n",
       "      <td>0</td>\n",
       "      <td>1</td>\n",
       "      <td>0</td>\n",
       "      <td>0</td>\n",
       "      <td>0</td>\n",
       "      <td>1</td>\n",
       "      <td>1</td>\n",
       "      <td>0</td>\n",
       "      <td>0</td>\n",
       "      <td>0</td>\n",
       "    </tr>\n",
       "    <tr>\n",
       "      <th>2</th>\n",
       "      <td>1</td>\n",
       "      <td>1</td>\n",
       "      <td>1</td>\n",
       "      <td>1</td>\n",
       "      <td>1</td>\n",
       "      <td>1</td>\n",
       "      <td>1</td>\n",
       "      <td>1</td>\n",
       "      <td>0</td>\n",
       "      <td>1</td>\n",
       "      <td>0</td>\n",
       "      <td>1</td>\n",
       "      <td>1</td>\n",
       "      <td>1</td>\n",
       "      <td>0</td>\n",
       "      <td>0</td>\n",
       "      <td>0</td>\n",
       "      <td>0</td>\n",
       "      <td>0</td>\n",
       "      <td>0</td>\n",
       "    </tr>\n",
       "    <tr>\n",
       "      <th>3</th>\n",
       "      <td>1</td>\n",
       "      <td>1</td>\n",
       "      <td>1</td>\n",
       "      <td>0</td>\n",
       "      <td>0</td>\n",
       "      <td>1</td>\n",
       "      <td>0</td>\n",
       "      <td>0</td>\n",
       "      <td>1</td>\n",
       "      <td>1</td>\n",
       "      <td>0</td>\n",
       "      <td>0</td>\n",
       "      <td>0</td>\n",
       "      <td>1</td>\n",
       "      <td>0</td>\n",
       "      <td>1</td>\n",
       "      <td>1</td>\n",
       "      <td>0</td>\n",
       "      <td>0</td>\n",
       "      <td>0</td>\n",
       "    </tr>\n",
       "    <tr>\n",
       "      <th>4</th>\n",
       "      <td>1</td>\n",
       "      <td>1</td>\n",
       "      <td>1</td>\n",
       "      <td>1</td>\n",
       "      <td>1</td>\n",
       "      <td>0</td>\n",
       "      <td>1</td>\n",
       "      <td>1</td>\n",
       "      <td>1</td>\n",
       "      <td>1</td>\n",
       "      <td>1</td>\n",
       "      <td>0</td>\n",
       "      <td>1</td>\n",
       "      <td>0</td>\n",
       "      <td>1</td>\n",
       "      <td>0</td>\n",
       "      <td>1</td>\n",
       "      <td>0</td>\n",
       "      <td>0</td>\n",
       "      <td>0</td>\n",
       "    </tr>\n",
       "  </tbody>\n",
       "</table>\n",
       "</div>"
      ],
      "text/plain": [
       "   Breathing Problem  Fever  Dry Cough  Sore throat  Running 0se  Asthma  \\\n",
       "0                  1      1          1            1            1       0   \n",
       "1                  1      1          1            1            0       1   \n",
       "2                  1      1          1            1            1       1   \n",
       "3                  1      1          1            0            0       1   \n",
       "4                  1      1          1            1            1       0   \n",
       "\n",
       "   Chronic Lung Disease  Headache  Heart Disease  Diabetes  Hyper Tension  \\\n",
       "0                     0         0              0         1              1   \n",
       "1                     1         1              0         0              0   \n",
       "2                     1         1              0         1              0   \n",
       "3                     0         0              1         1              0   \n",
       "4                     1         1              1         1              1   \n",
       "\n",
       "   Fatigue   Gastrointestinal   Abroad travel  Contact with COVID Patient  \\\n",
       "0         1                  1              0                           1   \n",
       "1         1                  0              0                           0   \n",
       "2         1                  1              1                           0   \n",
       "3         0                  0              1                           0   \n",
       "4         0                  1              0                           1   \n",
       "\n",
       "   Attended Large Gathering  Visited Public Exposed Places  \\\n",
       "0                         0                              1   \n",
       "1                         1                              1   \n",
       "2                         0                              0   \n",
       "3                         1                              1   \n",
       "4                         0                              1   \n",
       "\n",
       "   Family working in Public Exposed Places  Wearing Masks  \\\n",
       "0                                        1              0   \n",
       "1                                        0              0   \n",
       "2                                        0              0   \n",
       "3                                        0              0   \n",
       "4                                        0              0   \n",
       "\n",
       "   Sanitization from Market  \n",
       "0                         0  \n",
       "1                         0  \n",
       "2                         0  \n",
       "3                         0  \n",
       "4                         0  "
      ]
     },
     "execution_count": 5,
     "metadata": {},
     "output_type": "execute_result"
    }
   ],
   "source": [
    "X.head()"
   ]
  },
  {
   "cell_type": "code",
   "execution_count": 6,
   "metadata": {},
   "outputs": [
    {
     "data": {
      "text/plain": [
       "0    1\n",
       "1    1\n",
       "2    1\n",
       "3    1\n",
       "4    1\n",
       "Name: COVID-19, dtype: int64"
      ]
     },
     "execution_count": 6,
     "metadata": {},
     "output_type": "execute_result"
    }
   ],
   "source": [
    "Y.head()"
   ]
  },
  {
   "cell_type": "code",
   "execution_count": 7,
   "metadata": {},
   "outputs": [],
   "source": [
    "#defining Training , Testing Variables . Testing will be done on the 20% of the dataset and Training will be done on 80% of the dataset\n",
    "from sklearn.model_selection import train_test_split\n",
    "\n",
    "X_train,X_test,Y_train,Y_test = train_test_split(X,Y,test_size=.2,random_state=0)"
   ]
  },
  {
   "cell_type": "code",
   "execution_count": 8,
   "metadata": {},
   "outputs": [],
   "source": [
    "#Transforming the points in smaller numerical value from the larger numerical value\n",
    "from sklearn.preprocessing import StandardScaler\n",
    "\n",
    "stc = StandardScaler()\n",
    "X_train = stc.fit_transform(X_train)\n",
    "X_test = stc.transform(X_test)"
   ]
  },
  {
   "cell_type": "code",
   "execution_count": 9,
   "metadata": {},
   "outputs": [
    {
     "data": {
      "text/plain": [
       "array([[-1.39826055,  0.52419468,  0.51812776, ...,  1.19406082,\n",
       "         0.        ,  0.        ],\n",
       "       [ 0.71517429,  0.52419468,  0.51812776, ..., -0.83747828,\n",
       "         0.        ,  0.        ],\n",
       "       [ 0.71517429, -1.9076882 ,  0.51812776, ..., -0.83747828,\n",
       "         0.        ,  0.        ],\n",
       "       ...,\n",
       "       [ 0.71517429,  0.52419468,  0.51812776, ...,  1.19406082,\n",
       "         0.        ,  0.        ],\n",
       "       [-1.39826055,  0.52419468,  0.51812776, ...,  1.19406082,\n",
       "         0.        ,  0.        ],\n",
       "       [ 0.71517429, -1.9076882 ,  0.51812776, ..., -0.83747828,\n",
       "         0.        ,  0.        ]])"
      ]
     },
     "execution_count": 9,
     "metadata": {},
     "output_type": "execute_result"
    }
   ],
   "source": [
    "X_train"
   ]
  },
  {
   "cell_type": "code",
   "execution_count": 10,
   "metadata": {
    "scrolled": true
   },
   "outputs": [
    {
     "data": {
      "text/plain": [
       "array([[ 0.71517429,  0.52419468,  0.51812776, ..., -0.83747828,\n",
       "         0.        ,  0.        ],\n",
       "       [ 0.71517429,  0.52419468,  0.51812776, ..., -0.83747828,\n",
       "         0.        ,  0.        ],\n",
       "       [-1.39826055,  0.52419468,  0.51812776, ...,  1.19406082,\n",
       "         0.        ,  0.        ],\n",
       "       ...,\n",
       "       [ 0.71517429,  0.52419468,  0.51812776, ...,  1.19406082,\n",
       "         0.        ,  0.        ],\n",
       "       [-1.39826055, -1.9076882 , -1.93002591, ...,  1.19406082,\n",
       "         0.        ,  0.        ],\n",
       "       [ 0.71517429,  0.52419468,  0.51812776, ..., -0.83747828,\n",
       "         0.        ,  0.        ]])"
      ]
     },
     "execution_count": 10,
     "metadata": {},
     "output_type": "execute_result"
    }
   ],
   "source": [
    "X_test"
   ]
  },
  {
   "cell_type": "code",
   "execution_count": 11,
   "metadata": {},
   "outputs": [
    {
     "data": {
      "text/plain": [
       "(5434, 20)"
      ]
     },
     "execution_count": 11,
     "metadata": {},
     "output_type": "execute_result"
    }
   ],
   "source": [
    "X.shape"
   ]
  },
  {
   "cell_type": "code",
   "execution_count": 12,
   "metadata": {},
   "outputs": [],
   "source": [
    "#Importing the Required Libraries for ANN\n",
    "import keras\n",
    "from keras.models import Sequential\n",
    "from keras.layers import Dense\n",
    "from keras.layers import ReLU\n",
    "from keras.layers import Dropout"
   ]
  },
  {
   "cell_type": "code",
   "execution_count": 13,
   "metadata": {},
   "outputs": [],
   "source": [
    "#Adding the Layers(Input , Hidden and Output) to our ANN\n",
    "classifier = Sequential()\n",
    "\n",
    "classifier.add(Dense(20 , input_dim = 20 ,activation='relu'))\n",
    "classifier.add(Dense(30 , activation='relu'))\n",
    "classifier.add(Dense(30 , activation='relu'))\n",
    "classifier.add(Dense(20 , activation='relu'))\n",
    "classifier.add(Dense(10 , activation='relu'))\n",
    "classifier.add(Dense(5 ,  activation='relu'))\n",
    "\n",
    "classifier.add(Dense(1 , activation='sigmoid'))\n",
    "\n",
    "classifier.compile(loss = 'binary_crossentropy' ,optimizer = 'adam' , metrics = ['accuracy'])"
   ]
  },
  {
   "cell_type": "code",
   "execution_count": 14,
   "metadata": {},
   "outputs": [
    {
     "name": "stdout",
     "output_type": "stream",
     "text": [
      "Epoch 1/50\n",
      "31/31 [==============================] - 1s 20ms/step - loss: 0.6211 - accuracy: 0.7876 - val_loss: 0.4901 - val_accuracy: 0.8138\n",
      "Epoch 2/50\n",
      "31/31 [==============================] - 0s 9ms/step - loss: 0.3869 - accuracy: 0.7982 - val_loss: 0.2678 - val_accuracy: 0.8153\n",
      "Epoch 3/50\n",
      "31/31 [==============================] - 0s 8ms/step - loss: 0.2405 - accuracy: 0.8593 - val_loss: 0.1756 - val_accuracy: 0.9502\n",
      "Epoch 4/50\n",
      "31/31 [==============================] - 0s 9ms/step - loss: 0.1519 - accuracy: 0.9556 - val_loss: 0.0996 - val_accuracy: 0.9602\n",
      "Epoch 5/50\n",
      "31/31 [==============================] - 0s 9ms/step - loss: 0.0875 - accuracy: 0.9629 - val_loss: 0.0658 - val_accuracy: 0.9762\n",
      "Epoch 6/50\n",
      "31/31 [==============================] - 0s 9ms/step - loss: 0.0620 - accuracy: 0.9734 - val_loss: 0.0515 - val_accuracy: 0.9770\n",
      "Epoch 7/50\n",
      "31/31 [==============================] - 0s 9ms/step - loss: 0.0511 - accuracy: 0.9760 - val_loss: 0.0446 - val_accuracy: 0.9785\n",
      "Epoch 8/50\n",
      "31/31 [==============================] - 0s 9ms/step - loss: 0.0456 - accuracy: 0.9803 - val_loss: 0.0411 - val_accuracy: 0.9785\n",
      "Epoch 9/50\n",
      "31/31 [==============================] - 0s 9ms/step - loss: 0.0417 - accuracy: 0.9806 - val_loss: 0.0380 - val_accuracy: 0.9785\n",
      "Epoch 10/50\n",
      "31/31 [==============================] - 0s 9ms/step - loss: 0.0391 - accuracy: 0.9819 - val_loss: 0.0360 - val_accuracy: 0.9778\n",
      "Epoch 11/50\n",
      "31/31 [==============================] - 0s 9ms/step - loss: 0.0398 - accuracy: 0.9799 - val_loss: 0.0366 - val_accuracy: 0.9824\n",
      "Epoch 12/50\n",
      "31/31 [==============================] - 0s 9ms/step - loss: 0.0393 - accuracy: 0.9816 - val_loss: 0.0402 - val_accuracy: 0.9824\n",
      "Epoch 13/50\n",
      "31/31 [==============================] - 0s 8ms/step - loss: 0.0388 - accuracy: 0.9793 - val_loss: 0.0345 - val_accuracy: 0.9816\n",
      "Epoch 14/50\n",
      "31/31 [==============================] - 0s 9ms/step - loss: 0.0364 - accuracy: 0.9832 - val_loss: 0.0354 - val_accuracy: 0.9824\n",
      "Epoch 15/50\n",
      "31/31 [==============================] - 0s 9ms/step - loss: 0.0365 - accuracy: 0.9822 - val_loss: 0.0352 - val_accuracy: 0.9793\n",
      "Epoch 16/50\n",
      "31/31 [==============================] - 0s 9ms/step - loss: 0.0363 - accuracy: 0.9826 - val_loss: 0.0334 - val_accuracy: 0.9824\n",
      "Epoch 17/50\n",
      "31/31 [==============================] - 0s 9ms/step - loss: 0.0348 - accuracy: 0.9832 - val_loss: 0.0339 - val_accuracy: 0.9824\n",
      "Epoch 18/50\n",
      "31/31 [==============================] - 0s 9ms/step - loss: 0.0350 - accuracy: 0.9813 - val_loss: 0.0384 - val_accuracy: 0.9793\n",
      "Epoch 19/50\n",
      "31/31 [==============================] - 0s 8ms/step - loss: 0.0366 - accuracy: 0.9822 - val_loss: 0.0418 - val_accuracy: 0.9793\n",
      "Epoch 20/50\n",
      "31/31 [==============================] - 0s 9ms/step - loss: 0.0355 - accuracy: 0.9822 - val_loss: 0.0348 - val_accuracy: 0.9793\n",
      "Epoch 21/50\n",
      "31/31 [==============================] - 0s 9ms/step - loss: 0.0346 - accuracy: 0.9826 - val_loss: 0.0352 - val_accuracy: 0.9793\n",
      "Epoch 22/50\n",
      "31/31 [==============================] - 0s 9ms/step - loss: 0.0343 - accuracy: 0.9816 - val_loss: 0.0354 - val_accuracy: 0.9793\n",
      "Epoch 23/50\n",
      "31/31 [==============================] - 0s 9ms/step - loss: 0.0344 - accuracy: 0.9829 - val_loss: 0.0339 - val_accuracy: 0.9824\n",
      "Epoch 24/50\n",
      "31/31 [==============================] - 0s 9ms/step - loss: 0.0345 - accuracy: 0.9822 - val_loss: 0.0362 - val_accuracy: 0.9793\n",
      "Epoch 25/50\n",
      "31/31 [==============================] - 0s 9ms/step - loss: 0.0347 - accuracy: 0.9816 - val_loss: 0.0347 - val_accuracy: 0.9824\n",
      "Epoch 26/50\n",
      "31/31 [==============================] - 0s 8ms/step - loss: 0.0346 - accuracy: 0.9832 - val_loss: 0.0345 - val_accuracy: 0.9824\n",
      "Epoch 27/50\n",
      "31/31 [==============================] - 0s 9ms/step - loss: 0.0344 - accuracy: 0.9829 - val_loss: 0.0318 - val_accuracy: 0.9824\n",
      "Epoch 28/50\n",
      "31/31 [==============================] - 0s 9ms/step - loss: 0.0348 - accuracy: 0.9826 - val_loss: 0.0334 - val_accuracy: 0.9793\n",
      "Epoch 29/50\n",
      "31/31 [==============================] - 0s 9ms/step - loss: 0.0343 - accuracy: 0.9832 - val_loss: 0.0328 - val_accuracy: 0.9824\n",
      "Epoch 30/50\n",
      "31/31 [==============================] - 0s 9ms/step - loss: 0.0346 - accuracy: 0.9813 - val_loss: 0.0389 - val_accuracy: 0.9793\n",
      "Epoch 31/50\n",
      "31/31 [==============================] - 0s 9ms/step - loss: 0.0343 - accuracy: 0.9832 - val_loss: 0.0332 - val_accuracy: 0.9824\n",
      "Epoch 32/50\n",
      "31/31 [==============================] - 0s 8ms/step - loss: 0.0344 - accuracy: 0.9809 - val_loss: 0.0349 - val_accuracy: 0.9793\n",
      "Epoch 33/50\n",
      "31/31 [==============================] - 0s 8ms/step - loss: 0.0342 - accuracy: 0.9822 - val_loss: 0.0325 - val_accuracy: 0.9824\n",
      "Epoch 34/50\n",
      "31/31 [==============================] - 0s 9ms/step - loss: 0.0338 - accuracy: 0.9826 - val_loss: 0.0329 - val_accuracy: 0.9793\n",
      "Epoch 35/50\n",
      "31/31 [==============================] - 0s 9ms/step - loss: 0.0335 - accuracy: 0.9816 - val_loss: 0.0326 - val_accuracy: 0.9824\n",
      "Epoch 36/50\n",
      "31/31 [==============================] - 0s 8ms/step - loss: 0.0348 - accuracy: 0.9826 - val_loss: 0.0332 - val_accuracy: 0.9824\n",
      "Epoch 37/50\n",
      "31/31 [==============================] - 0s 8ms/step - loss: 0.0342 - accuracy: 0.9822 - val_loss: 0.0332 - val_accuracy: 0.9824\n",
      "Epoch 38/50\n",
      "31/31 [==============================] - 0s 9ms/step - loss: 0.0337 - accuracy: 0.9829 - val_loss: 0.0326 - val_accuracy: 0.9793\n",
      "Epoch 39/50\n",
      "31/31 [==============================] - 0s 9ms/step - loss: 0.0334 - accuracy: 0.9832 - val_loss: 0.0330 - val_accuracy: 0.9793\n",
      "Epoch 40/50\n",
      "31/31 [==============================] - 0s 8ms/step - loss: 0.0335 - accuracy: 0.9816 - val_loss: 0.0326 - val_accuracy: 0.9793\n",
      "Epoch 41/50\n",
      "31/31 [==============================] - 0s 9ms/step - loss: 0.0331 - accuracy: 0.9829 - val_loss: 0.0343 - val_accuracy: 0.9793\n",
      "Epoch 42/50\n",
      "31/31 [==============================] - 0s 9ms/step - loss: 0.0333 - accuracy: 0.9822 - val_loss: 0.0337 - val_accuracy: 0.9824\n",
      "Epoch 43/50\n",
      "31/31 [==============================] - 0s 9ms/step - loss: 0.0337 - accuracy: 0.9819 - val_loss: 0.0313 - val_accuracy: 0.9824\n",
      "Epoch 44/50\n",
      "31/31 [==============================] - 0s 8ms/step - loss: 0.0338 - accuracy: 0.9816 - val_loss: 0.0330 - val_accuracy: 0.9793\n",
      "Epoch 45/50\n",
      "31/31 [==============================] - 0s 9ms/step - loss: 0.0333 - accuracy: 0.9832 - val_loss: 0.0312 - val_accuracy: 0.9824\n",
      "Epoch 46/50\n",
      "31/31 [==============================] - 0s 9ms/step - loss: 0.0335 - accuracy: 0.9816 - val_loss: 0.0312 - val_accuracy: 0.9824\n",
      "Epoch 47/50\n",
      "31/31 [==============================] - 0s 9ms/step - loss: 0.0337 - accuracy: 0.9813 - val_loss: 0.0328 - val_accuracy: 0.9824\n",
      "Epoch 48/50\n",
      "31/31 [==============================] - 0s 8ms/step - loss: 0.0335 - accuracy: 0.9816 - val_loss: 0.0324 - val_accuracy: 0.9824\n",
      "Epoch 49/50\n",
      "31/31 [==============================] - 0s 8ms/step - loss: 0.0334 - accuracy: 0.9832 - val_loss: 0.0315 - val_accuracy: 0.9824\n",
      "Epoch 50/50\n",
      "31/31 [==============================] - 0s 8ms/step - loss: 0.0334 - accuracy: 0.9806 - val_loss: 0.0333 - val_accuracy: 0.9793\n"
     ]
    }
   ],
   "source": [
    "#Training our Ann\n",
    "model_history = classifier.fit(X_train,Y_train,validation_split=0.30,batch_size=100,epochs=50)"
   ]
  },
  {
   "cell_type": "code",
   "execution_count": 15,
   "metadata": {},
   "outputs": [],
   "source": [
    "y_pred = classifier.predict(X_test)\n",
    "y_pred = (y_pred > 0.5)"
   ]
  },
  {
   "cell_type": "code",
   "execution_count": 16,
   "metadata": {
    "scrolled": true
   },
   "outputs": [],
   "source": [
    "# y_pred"
   ]
  },
  {
   "cell_type": "code",
   "execution_count": 17,
   "metadata": {},
   "outputs": [],
   "source": [
    "# for i in range(len(y_pred)):\n",
    "#     if y_pred[[i]] < 0.5:\n",
    "#         y_pred[[i]] = 0\n",
    "#     elif y_pred[i] > 0.5:\n",
    "#         y_pred[[i]] = 1\n",
    "#     elif y_pred[i] == 0.5:\n",
    "#         y_pred[i] = 0.5"
   ]
  },
  {
   "cell_type": "code",
   "execution_count": 18,
   "metadata": {},
   "outputs": [
    {
     "data": {
      "text/plain": [
       "array([[ True],\n",
       "       [ True],\n",
       "       [ True],\n",
       "       ...,\n",
       "       [ True],\n",
       "       [False],\n",
       "       [ True]])"
      ]
     },
     "execution_count": 18,
     "metadata": {},
     "output_type": "execute_result"
    }
   ],
   "source": [
    "y_pred"
   ]
  },
  {
   "cell_type": "code",
   "execution_count": 19,
   "metadata": {},
   "outputs": [
    {
     "data": {
      "text/plain": [
       "5145    1\n",
       "502     1\n",
       "2550    1\n",
       "2260    1\n",
       "3641    1\n",
       "       ..\n",
       "599     1\n",
       "1590    1\n",
       "1085    1\n",
       "4184    0\n",
       "649     1\n",
       "Name: COVID-19, Length: 1087, dtype: int64"
      ]
     },
     "execution_count": 19,
     "metadata": {},
     "output_type": "execute_result"
    }
   ],
   "source": [
    "Y_test"
   ]
  },
  {
   "cell_type": "code",
   "execution_count": 20,
   "metadata": {},
   "outputs": [
    {
     "name": "stdout",
     "output_type": "stream",
     "text": [
      "34/34 [==============================] - 0s 4ms/step - loss: 0.0366 - accuracy: 0.9862\n"
     ]
    },
    {
     "data": {
      "text/plain": [
       "[0.03655749931931496, 0.9862005710601807]"
      ]
     },
     "execution_count": 20,
     "metadata": {},
     "output_type": "execute_result"
    }
   ],
   "source": [
    "classifier.evaluate(X_test,Y_test)"
   ]
  },
  {
   "cell_type": "code",
   "execution_count": 21,
   "metadata": {},
   "outputs": [
    {
     "name": "stdout",
     "output_type": "stream",
     "text": [
      "98.62005519779208 %\n",
      "______________________\n",
      "[[190   2]\n",
      " [ 13 882]]\n",
      "______________________\n",
      "              precision    recall  f1-score   support\n",
      "\n",
      "           0       0.94      0.99      0.96       192\n",
      "           1       1.00      0.99      0.99       895\n",
      "\n",
      "    accuracy                           0.99      1087\n",
      "   macro avg       0.97      0.99      0.98      1087\n",
      "weighted avg       0.99      0.99      0.99      1087\n",
      "\n"
     ]
    }
   ],
   "source": [
    "# # Making the Confusion Matrix\n",
    "# # Calculate the Accuracy\n",
    "from sklearn.metrics import confusion_matrix , accuracy_score , classification_report\n",
    "cm = confusion_matrix(Y_test, y_pred)\n",
    "score = accuracy_score(Y_test,y_pred)\n",
    "clr = classification_report(Y_test,y_pred)\n",
    "print(f\"{score*100} %\\n______________________\\n{cm}\\n______________________\\n{clr}\")"
   ]
  },
  {
   "cell_type": "code",
   "execution_count": 22,
   "metadata": {
    "scrolled": true
   },
   "outputs": [
    {
     "data": {
      "text/html": [
       "<div>\n",
       "<style scoped>\n",
       "    .dataframe tbody tr th:only-of-type {\n",
       "        vertical-align: middle;\n",
       "    }\n",
       "\n",
       "    .dataframe tbody tr th {\n",
       "        vertical-align: top;\n",
       "    }\n",
       "\n",
       "    .dataframe thead th {\n",
       "        text-align: right;\n",
       "    }\n",
       "</style>\n",
       "<table border=\"1\" class=\"dataframe\">\n",
       "  <thead>\n",
       "    <tr style=\"text-align: right;\">\n",
       "      <th></th>\n",
       "      <th>Breathing Problem</th>\n",
       "      <th>Fever</th>\n",
       "      <th>Dry Cough</th>\n",
       "      <th>Sore throat</th>\n",
       "      <th>Running 0se</th>\n",
       "      <th>Asthma</th>\n",
       "      <th>Chronic Lung Disease</th>\n",
       "      <th>Headache</th>\n",
       "      <th>Heart Disease</th>\n",
       "      <th>Diabetes</th>\n",
       "      <th>Hyper Tension</th>\n",
       "      <th>Fatigue</th>\n",
       "      <th>Gastrointestinal</th>\n",
       "      <th>Abroad travel</th>\n",
       "      <th>Contact with COVID Patient</th>\n",
       "      <th>Attended Large Gathering</th>\n",
       "      <th>Visited Public Exposed Places</th>\n",
       "      <th>Family working in Public Exposed Places</th>\n",
       "      <th>Wearing Masks</th>\n",
       "      <th>Sanitization from Market</th>\n",
       "    </tr>\n",
       "  </thead>\n",
       "  <tbody>\n",
       "    <tr>\n",
       "      <th>0</th>\n",
       "      <td>1</td>\n",
       "      <td>1</td>\n",
       "      <td>1</td>\n",
       "      <td>1</td>\n",
       "      <td>1</td>\n",
       "      <td>0</td>\n",
       "      <td>0</td>\n",
       "      <td>0</td>\n",
       "      <td>0</td>\n",
       "      <td>1</td>\n",
       "      <td>1</td>\n",
       "      <td>1</td>\n",
       "      <td>1</td>\n",
       "      <td>0</td>\n",
       "      <td>1</td>\n",
       "      <td>0</td>\n",
       "      <td>1</td>\n",
       "      <td>1</td>\n",
       "      <td>0</td>\n",
       "      <td>0</td>\n",
       "    </tr>\n",
       "    <tr>\n",
       "      <th>1</th>\n",
       "      <td>1</td>\n",
       "      <td>1</td>\n",
       "      <td>1</td>\n",
       "      <td>1</td>\n",
       "      <td>0</td>\n",
       "      <td>1</td>\n",
       "      <td>1</td>\n",
       "      <td>1</td>\n",
       "      <td>0</td>\n",
       "      <td>0</td>\n",
       "      <td>0</td>\n",
       "      <td>1</td>\n",
       "      <td>0</td>\n",
       "      <td>0</td>\n",
       "      <td>0</td>\n",
       "      <td>1</td>\n",
       "      <td>1</td>\n",
       "      <td>0</td>\n",
       "      <td>0</td>\n",
       "      <td>0</td>\n",
       "    </tr>\n",
       "    <tr>\n",
       "      <th>2</th>\n",
       "      <td>1</td>\n",
       "      <td>1</td>\n",
       "      <td>1</td>\n",
       "      <td>1</td>\n",
       "      <td>1</td>\n",
       "      <td>1</td>\n",
       "      <td>1</td>\n",
       "      <td>1</td>\n",
       "      <td>0</td>\n",
       "      <td>1</td>\n",
       "      <td>0</td>\n",
       "      <td>1</td>\n",
       "      <td>1</td>\n",
       "      <td>1</td>\n",
       "      <td>0</td>\n",
       "      <td>0</td>\n",
       "      <td>0</td>\n",
       "      <td>0</td>\n",
       "      <td>0</td>\n",
       "      <td>0</td>\n",
       "    </tr>\n",
       "    <tr>\n",
       "      <th>3</th>\n",
       "      <td>1</td>\n",
       "      <td>1</td>\n",
       "      <td>1</td>\n",
       "      <td>0</td>\n",
       "      <td>0</td>\n",
       "      <td>1</td>\n",
       "      <td>0</td>\n",
       "      <td>0</td>\n",
       "      <td>1</td>\n",
       "      <td>1</td>\n",
       "      <td>0</td>\n",
       "      <td>0</td>\n",
       "      <td>0</td>\n",
       "      <td>1</td>\n",
       "      <td>0</td>\n",
       "      <td>1</td>\n",
       "      <td>1</td>\n",
       "      <td>0</td>\n",
       "      <td>0</td>\n",
       "      <td>0</td>\n",
       "    </tr>\n",
       "    <tr>\n",
       "      <th>4</th>\n",
       "      <td>1</td>\n",
       "      <td>1</td>\n",
       "      <td>1</td>\n",
       "      <td>1</td>\n",
       "      <td>1</td>\n",
       "      <td>0</td>\n",
       "      <td>1</td>\n",
       "      <td>1</td>\n",
       "      <td>1</td>\n",
       "      <td>1</td>\n",
       "      <td>1</td>\n",
       "      <td>0</td>\n",
       "      <td>1</td>\n",
       "      <td>0</td>\n",
       "      <td>1</td>\n",
       "      <td>0</td>\n",
       "      <td>1</td>\n",
       "      <td>0</td>\n",
       "      <td>0</td>\n",
       "      <td>0</td>\n",
       "    </tr>\n",
       "  </tbody>\n",
       "</table>\n",
       "</div>"
      ],
      "text/plain": [
       "   Breathing Problem  Fever  Dry Cough  Sore throat  Running 0se  Asthma  \\\n",
       "0                  1      1          1            1            1       0   \n",
       "1                  1      1          1            1            0       1   \n",
       "2                  1      1          1            1            1       1   \n",
       "3                  1      1          1            0            0       1   \n",
       "4                  1      1          1            1            1       0   \n",
       "\n",
       "   Chronic Lung Disease  Headache  Heart Disease  Diabetes  Hyper Tension  \\\n",
       "0                     0         0              0         1              1   \n",
       "1                     1         1              0         0              0   \n",
       "2                     1         1              0         1              0   \n",
       "3                     0         0              1         1              0   \n",
       "4                     1         1              1         1              1   \n",
       "\n",
       "   Fatigue   Gastrointestinal   Abroad travel  Contact with COVID Patient  \\\n",
       "0         1                  1              0                           1   \n",
       "1         1                  0              0                           0   \n",
       "2         1                  1              1                           0   \n",
       "3         0                  0              1                           0   \n",
       "4         0                  1              0                           1   \n",
       "\n",
       "   Attended Large Gathering  Visited Public Exposed Places  \\\n",
       "0                         0                              1   \n",
       "1                         1                              1   \n",
       "2                         0                              0   \n",
       "3                         1                              1   \n",
       "4                         0                              1   \n",
       "\n",
       "   Family working in Public Exposed Places  Wearing Masks  \\\n",
       "0                                        1              0   \n",
       "1                                        0              0   \n",
       "2                                        0              0   \n",
       "3                                        0              0   \n",
       "4                                        0              0   \n",
       "\n",
       "   Sanitization from Market  \n",
       "0                         0  \n",
       "1                         0  \n",
       "2                         0  \n",
       "3                         0  \n",
       "4                         0  "
      ]
     },
     "execution_count": 22,
     "metadata": {},
     "output_type": "execute_result"
    }
   ],
   "source": [
    "X.head()"
   ]
  },
  {
   "cell_type": "code",
   "execution_count": 23,
   "metadata": {
    "scrolled": false
   },
   "outputs": [
    {
     "data": {
      "text/plain": [
       "array([[1.]], dtype=float32)"
      ]
     },
     "execution_count": 23,
     "metadata": {},
     "output_type": "execute_result"
    }
   ],
   "source": [
    "classifier.predict([[1,0,0,1,1,1,0,1,0,1,1,1,0,1,1,1,0,1,0,0]])"
   ]
  },
  {
   "cell_type": "code",
   "execution_count": 24,
   "metadata": {},
   "outputs": [
    {
     "data": {
      "text/plain": [
       "array([[1.]], dtype=float32)"
      ]
     },
     "execution_count": 24,
     "metadata": {},
     "output_type": "execute_result"
    }
   ],
   "source": [
    "classifier.predict([[1,1,1,0,1,1,0,1,0,1,1,0,0,0,0,0,0,0,0,0]])"
   ]
  },
  {
   "cell_type": "code",
   "execution_count": 25,
   "metadata": {},
   "outputs": [
    {
     "data": {
      "text/plain": [
       "array([[0.9999999]], dtype=float32)"
      ]
     },
     "execution_count": 25,
     "metadata": {},
     "output_type": "execute_result"
    }
   ],
   "source": [
    "classifier.predict([[1,1,1,0,1,0,0,1,1,0,0,0,0,0,0,0,0,0,0,0]])"
   ]
  },
  {
   "cell_type": "code",
   "execution_count": 26,
   "metadata": {},
   "outputs": [
    {
     "data": {
      "text/plain": [
       "array([[0.99671257]], dtype=float32)"
      ]
     },
     "execution_count": 26,
     "metadata": {},
     "output_type": "execute_result"
    }
   ],
   "source": [
    "classifier.predict([[0,0,0,0,0,0,0,0,0,0,0,0,0,0,0,0,0,0,0,0]])"
   ]
  },
  {
   "cell_type": "code",
   "execution_count": null,
   "metadata": {},
   "outputs": [],
   "source": []
  },
  {
   "cell_type": "code",
   "execution_count": null,
   "metadata": {},
   "outputs": [],
   "source": []
  }
 ],
 "metadata": {
  "kernelspec": {
   "display_name": "Python 3.7.6 64-bit",
   "language": "python",
   "name": "python37664bitb7792b951a5c4e08b5ef8dba75a540c2"
  },
  "language_info": {
   "codemirror_mode": {
    "name": "ipython",
    "version": 3
   },
   "file_extension": ".py",
   "mimetype": "text/x-python",
   "name": "python",
   "nbconvert_exporter": "python",
   "pygments_lexer": "ipython3",
   "version": "3.7.6"
  }
 },
 "nbformat": 4,
 "nbformat_minor": 4
}
